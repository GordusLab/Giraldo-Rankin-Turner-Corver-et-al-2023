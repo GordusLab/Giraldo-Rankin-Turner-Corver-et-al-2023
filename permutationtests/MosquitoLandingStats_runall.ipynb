{
 "cells": [
  {
   "cell_type": "code",
   "execution_count": null,
   "metadata": {},
   "outputs": [],
   "source": [
    "# Run notebook with all settings\n",
    "for EXPERIMENT in ['CO2', '1-human', '2-human', '6-human']:\n",
    "    for MODE in ['LANDINGS', ] if EXPERIMENT != '6-human' else ['LANDINGS', 'OCCUPANCY']:\n",
    "        for USE_ABSOLUTE_COUNTS in [False, True]:\n",
    "            %run MosquitoLandingStats_CO2_126human.ipynb"
   ]
  }
 ],
 "metadata": {
  "kernelspec": {
   "display_name": "Python 3 (ipykernel)",
   "language": "python",
   "name": "python3"
  },
  "language_info": {
   "codemirror_mode": {
    "name": "ipython",
    "version": 3
   },
   "file_extension": ".py",
   "mimetype": "text/x-python",
   "name": "python",
   "nbconvert_exporter": "python",
   "pygments_lexer": "ipython3",
   "version": "3.8.16"
  }
 },
 "nbformat": 4,
 "nbformat_minor": 2
}
